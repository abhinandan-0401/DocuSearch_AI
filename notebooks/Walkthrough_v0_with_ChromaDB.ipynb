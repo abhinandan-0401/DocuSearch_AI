{
 "cells": [
  {
   "cell_type": "code",
   "execution_count": 1,
   "id": "02ff5d1e",
   "metadata": {},
   "outputs": [],
   "source": [
    "import os\n",
    "import chromadb\n",
    "from chromadb.utils.embedding_functions import OpenAIEmbeddingFunction\n",
    "import pandas as pd\n",
    "import warnings\n",
    "\n",
    "os.chdir(\"C:/Users/abhmukherjee/Documents/GenAI/MongoDB/DocuSearch_AI/DocuSearch_AI\")\n",
    "\n",
    "warnings.filterwarnings(action=\"ignore\", message=\"unclosed\", category=ResourceWarning)\n",
    "warnings.filterwarnings(\"ignore\", category=DeprecationWarning) "
   ]
  },
  {
   "cell_type": "code",
   "execution_count": 3,
   "id": "2d2ff634",
   "metadata": {},
   "outputs": [],
   "source": [
    "df = pd.read_json(\"hf://datasets/MongoDB/embedded_movies/sample_mflix.embedded_movies.json\")\n",
    "df = df.head(250)"
   ]
  },
  {
   "cell_type": "code",
   "execution_count": 4,
   "id": "b3286b52",
   "metadata": {},
   "outputs": [],
   "source": [
    "# Connect to the existing ChromaDB client\n",
    "chroma_client = chromadb.PersistentClient()"
   ]
  },
  {
   "cell_type": "code",
   "execution_count": 5,
   "id": "52426f64",
   "metadata": {},
   "outputs": [
    {
     "name": "stdout",
     "output_type": "stream",
     "text": [
      "OPENAI_API_KEY is ready\n"
     ]
    }
   ],
   "source": [
    "from openai import OpenAI\n",
    "\n",
    "from src.config import Config\n",
    "\n",
    "if os.getenv(\"OPENAI_API_KEY\") is not None:\n",
    "    client = OpenAI(\n",
    "        api_key=Config.OPENAI_API_KEY,\n",
    "    )\n",
    "    print (\"OPENAI_API_KEY is ready\")\n",
    "else:\n",
    "    print (\"OPENAI_API_KEY environment variable not found\")\n",
    "\n",
    "# Initialize the OpenAI embedding function\n",
    "embedding_function = OpenAIEmbeddingFunction(\n",
    "    api_key=Config.OPENAI_API_KEY, \n",
    "    model_name=Config.EMBEDDING_MODEL,\n",
    ")"
   ]
  },
  {
   "cell_type": "code",
   "execution_count": 6,
   "id": "691a53d9",
   "metadata": {},
   "outputs": [],
   "source": [
    "movies_collection = chroma_client.create_collection(\n",
    "    name='mongodb_movies',\n",
    "    embedding_function=embedding_function,\n",
    ")"
   ]
  },
  {
   "cell_type": "code",
   "execution_count": 7,
   "id": "9cee1a68",
   "metadata": {},
   "outputs": [],
   "source": [
    "ids = []\n",
    "metadatas = []\n",
    "docs = []\n",
    "embeddings = []\n",
    "\n",
    "for idx, row in df.iterrows():\n",
    "    if isinstance(row['plot_embedding'], list):\n",
    "        meta_dict = {}\n",
    "        meta_dict['title'] = row['title']\n",
    "        \n",
    "        ids.append(str(idx))\n",
    "        docs.append(row['fullplot'])\n",
    "\n",
    "        embeddings.append(row['plot_embedding'])\n",
    "        metadatas.append(meta_dict)\n",
    "\n"
   ]
  },
  {
   "cell_type": "code",
   "execution_count": null,
   "id": "f9133936",
   "metadata": {},
   "outputs": [],
   "source": [
    "movies_collection.add(\n",
    "    ids = ids,\n",
    "    documents = docs,\n",
    "    embeddings = embeddings,\n",
    "    metadatas = metadatas,\n",
    ")"
   ]
  },
  {
   "cell_type": "code",
   "execution_count": 11,
   "id": "c193a74b",
   "metadata": {},
   "outputs": [
    {
     "name": "stdout",
     "output_type": "stream",
     "text": [
      "Top 5 results for query: 'science fiction movies with aliens'\n",
      "\n",
      "--- Result 1 ---\n",
      "Movie: Shinobi: Heart Under Blade\n",
      "Similarity Score: 1.9054886324682696\n",
      "Plot: After more than four hundred years of war between the Shinobi warriors of the Manjidani Koga and Tsubagakure Iga clans, the Lord Hattori Hanzou decree...\n",
      "\n",
      "--- Result 2 ---\n",
      "Movie: Dirty Harry\n",
      "Similarity Score: 1.926175641696861\n",
      "Plot: In the year 1971, San Francisco faces the terror of a maniac known as Scorpio- who snipes at innocent victims and demands ransom through notes left at...\n",
      "\n",
      "--- Result 3 ---\n",
      "Movie: Flash Gordon\n",
      "Similarity Score: 1.9292127100526804\n",
      "Plot: In this update of the 1930s comic strip, Flash Gordon is a football hero who is skyjacked aboard Dr. Hans Zarkov's rocketship along with beautiful Dal...\n"
     ]
    }
   ],
   "source": [
    "# Query by text (will be embedded by the embedding function)\n",
    "query_text = \"science fiction movies with aliens\"\n",
    "results = movies_collection.query(\n",
    "    query_texts=[query_text],\n",
    "    n_results=3\n",
    ")\n",
    "\n",
    "# Display the results\n",
    "print(f\"Top 5 results for query: '{query_text}'\")\n",
    "for i, (id, document, metadata) in enumerate(zip(\n",
    "    results['ids'][0], \n",
    "    results['documents'][0], \n",
    "    results['metadatas'][0]\n",
    ")):\n",
    "    print(f\"\\n--- Result {i+1} ---\")\n",
    "    print(f\"Movie: {metadata['title']}\")\n",
    "    print(f\"Similarity Score: {results['distances'][0][i] if 'distances' in results else 'N/A'}\")\n",
    "    print(f\"Plot: {document[:150]}...\")  # Show first 150 chars of plot"
   ]
  },
  {
   "cell_type": "code",
   "execution_count": null,
   "id": "3925a2bb",
   "metadata": {},
   "outputs": [
    {
     "name": "stdout",
     "output_type": "stream",
     "text": [
      "Top 5 results for query: 'science fiction movies with aliens'\n",
      "\n",
      "--- Result 1 ---\n",
      "Movie: Shinobi: Heart Under Blade\n",
      "Similarity Score: 1.9054886324682696\n",
      "Plot: After more than four hundred years of war between the Shinobi warriors of the Manjidani Koga and Tsubagakure Iga clans, the Lord Hattori Hanzou decree...\n",
      "\n",
      "--- Result 2 ---\n",
      "Movie: Dirty Harry\n",
      "Similarity Score: 1.926175641696861\n",
      "Plot: In the year 1971, San Francisco faces the terror of a maniac known as Scorpio- who snipes at innocent victims and demands ransom through notes left at...\n",
      "\n",
      "--- Result 3 ---\n",
      "Movie: Flash Gordon\n",
      "Similarity Score: 1.9292127100526804\n",
      "Plot: In this update of the 1930s comic strip, Flash Gordon is a football hero who is skyjacked aboard Dr. Hans Zarkov's rocketship along with beautiful Dal...\n",
      "\n",
      "--- Result 4 ---\n",
      "Movie: The Hunley\n",
      "Similarity Score: 1.9294807242778638\n",
      "Plot: CSS Hunley tells the incredible true story of the crew of the manually propelled submarine CSS Hunley, during the siege of Charleston of 1864. It is a...\n",
      "\n",
      "--- Result 5 ---\n",
      "Movie: Red Tails\n",
      "Similarity Score: 1.9324380778726775\n",
      "Plot: Italy, 1944. As the war takes its toll on Allied forces in Europe, a squadron of black pilots known as the Tuskegee Airmen are finally given the chanc...\n"
     ]
    }
   ],
   "source": [
    "# # Optional: If you have the vector embedding for a query\n",
    "# from openai import OpenAI\n",
    "# client = OpenAI(api_key=Config.OPENAI_API_KEY)\n",
    "# query_embedding = client.embeddings.create(\n",
    "#     input=query_text,\n",
    "#     model=Config.EMBEDDING_MODEL\n",
    "# ).data[0].embedding\n",
    "\n",
    "# vector_results = movies_collection.query(\n",
    "#     query_embeddings=[query_embedding],\n",
    "#     n_results=5\n",
    "# ) \n",
    "\n",
    "# # Display the results\n",
    "# print(f\"Top 5 results for query: '{query_text}'\")\n",
    "# for i, (id, document, metadata) in enumerate(zip(\n",
    "#     vector_results['ids'][0], \n",
    "#     vector_results['documents'][0], \n",
    "#     vector_results['metadatas'][0]\n",
    "# )):\n",
    "#     print(f\"\\n--- Result {i+1} ---\")\n",
    "#     print(f\"Movie: {metadata['title']}\")\n",
    "#     print(f\"Similarity Score: {vector_results['distances'][0][i] if 'distances' in vector_results else 'N/A'}\")\n",
    "#     print(f\"Plot: {document[:150]}...\")  # Show first 150 chars of plot"
   ]
  },
  {
   "cell_type": "code",
   "execution_count": null,
   "id": "baca361b",
   "metadata": {},
   "outputs": [],
   "source": []
  }
 ],
 "metadata": {
  "kernelspec": {
   "display_name": "Python 3",
   "language": "python",
   "name": "python3"
  },
  "language_info": {
   "codemirror_mode": {
    "name": "ipython",
    "version": 3
   },
   "file_extension": ".py",
   "mimetype": "text/x-python",
   "name": "python",
   "nbconvert_exporter": "python",
   "pygments_lexer": "ipython3",
   "version": "3.9.18"
  }
 },
 "nbformat": 4,
 "nbformat_minor": 5
}
